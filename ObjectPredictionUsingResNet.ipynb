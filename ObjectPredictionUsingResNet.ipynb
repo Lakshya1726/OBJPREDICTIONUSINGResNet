{
  "nbformat": 4,
  "nbformat_minor": 0,
  "metadata": {
    "colab": {
      "provenance": []
    },
    "kernelspec": {
      "name": "python3",
      "display_name": "Python 3"
    },
    "language_info": {
      "name": "python"
    }
  },
  "cells": [
    {
      "cell_type": "code",
      "execution_count": 1,
      "metadata": {
        "id": "8Jla7oL6if0L"
      },
      "outputs": [],
      "source": [
        "from tensorflow.keras.applications.resnet import ResNet50\n",
        "from tensorflow.keras.preprocessing import image\n",
        "from tensorflow.keras.applications.resnet50 import preprocess_input, decode_predictions\n",
        "import numpy as np"
      ]
    },
    {
      "cell_type": "code",
      "source": [
        "model = ResNet50(weights='imagenet')"
      ],
      "metadata": {
        "colab": {
          "base_uri": "https://localhost:8080/"
        },
        "id": "36xnd7nfjYrP",
        "outputId": "0ebde3b7-3507-4d6f-b32f-780568e8adc6"
      },
      "execution_count": 2,
      "outputs": [
        {
          "output_type": "stream",
          "name": "stdout",
          "text": [
            "Downloading data from https://storage.googleapis.com/tensorflow/keras-applications/resnet/resnet50_weights_tf_dim_ordering_tf_kernels.h5\n",
            "102967424/102967424 [==============================] - 4s 0us/step\n"
          ]
        }
      ]
    },
    {
      "cell_type": "code",
      "source": [
        "img_path = '/content/car.jpg'\n",
        "img = image.load_img(img_path,target_size=(224,224))\n",
        "x= image.img_to_array(img)\n",
        "x= np.expand_dims(x,axis=0)\n",
        "x= preprocess_input(x)"
      ],
      "metadata": {
        "id": "0Z4w7NevjdZL"
      },
      "execution_count": 7,
      "outputs": []
    },
    {
      "cell_type": "code",
      "source": [
        "preds = model.predict(x)\n",
        "print('Predicted:',decode_predictions(preds, top=3)[0])"
      ],
      "metadata": {
        "colab": {
          "base_uri": "https://localhost:8080/"
        },
        "id": "cbypW1wekObO",
        "outputId": "412d70ce-a3da-42ca-85fd-b604a72341fa"
      },
      "execution_count": 8,
      "outputs": [
        {
          "output_type": "stream",
          "name": "stdout",
          "text": [
            "1/1 [==============================] - 0s 205ms/step\n",
            "Predicted: [('n03594945', 'jeep', 0.7619771), ('n03478589', 'half_track', 0.030994907), ('n04461696', 'tow_truck', 0.02452839)]\n"
          ]
        }
      ]
    },
    {
      "cell_type": "code",
      "source": [],
      "metadata": {
        "id": "TgOtgqhYklnq"
      },
      "execution_count": null,
      "outputs": []
    },
    {
      "cell_type": "code",
      "source": [],
      "metadata": {
        "id": "zuNJ5yAWkcsO"
      },
      "execution_count": null,
      "outputs": []
    }
  ]
}